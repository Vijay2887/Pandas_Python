{
 "cells": [
  {
   "cell_type": "code",
   "execution_count": 1,
   "id": "2f11e3d1",
   "metadata": {},
   "outputs": [
    {
     "name": "stderr",
     "output_type": "stream",
     "text": [
      "c:\\Users\\ADMIN\\anaconda3\\envs\\pandas_prac_env\\Lib\\site-packages\\tqdm\\auto.py:21: TqdmWarning: IProgress not found. Please update jupyter and ipywidgets. See https://ipywidgets.readthedocs.io/en/stable/user_install.html\n",
      "  from .autonotebook import tqdm as notebook_tqdm\n"
     ]
    },
    {
     "name": "stdout",
     "output_type": "stream",
     "text": [
      "Loading the Dataset...\n",
      "Dataset Loaded Successfully...\n",
      "Data Frame Created...\n",
      "Data Cleaned...\n"
     ]
    }
   ],
   "source": [
    "import pandas as pd\n",
    "from datasets import load_dataset\n",
    "import matplotlib.pyplot as plt\n",
    "\n",
    "#Loading the dataset\n",
    "print(\"Loading the Dataset...\")\n",
    "dataset = load_dataset(\"lukebarousse/data_jobs\")\n",
    "print(\"Dataset Loaded Successfully...\")\n",
    "\n",
    "#converting dataset to a data frame\n",
    "df = dataset[\"train\"].to_pandas()\n",
    "print(\"Data Frame Created...\")\n",
    "\n",
    "############ Cleaning\n",
    "df[\"job_posted_date\"] = pd.to_datetime(df[\"job_posted_date\"])\n",
    "df.drop([\"salary_hour_avg\"], axis=1, inplace=True)\n",
    "df = df[df[\"job_title_short\"].notna()]\n",
    "df = df[df[\"salary_year_avg\"].notna()]\n",
    "df[\"joining_month\"] = df[\"job_posted_date\"].dt.month\n",
    "print(\"Data Cleaned...\")"
   ]
  },
  {
   "cell_type": "code",
   "execution_count": 33,
   "id": "5e353024",
   "metadata": {},
   "outputs": [],
   "source": [
    "# Lets do one thing.. Lets create a dic with keys of each month and the values would be the data frame containing joinings of only that month..\n",
    "\n",
    "df[\"job_posted_month\"] = df[\"job_posted_date\"].dt.strftime(\"%b\")\n",
    "# Get all The unique months which will be the keys of our dict later\n",
    "months = df[\"job_posted_month\"].unique().tolist()\n",
    "\n",
    "# Now lets create the dictionary which is typically of the format: {\"Jan\": jan_df , \"Feb\": feb_df ....}\n",
    "\n",
    "months_dict = {}\n",
    "for month in months:\n",
    "    if month not in months_dict:\n",
    "        months_dict[month] = df[df[\"job_posted_month\"] == month]\n",
    "\n",
    "\n",
    "\n",
    "#  We can also do the above code in a single line using dictionary comprehnsion as follow\n",
    "# simple_months_dict = {x: df[df[\"job_posted_month\"] == x] for x in months}\n",
    "# simple_months_dict\n"
   ]
  },
  {
   "cell_type": "code",
   "execution_count": 32,
   "id": "493c728f",
   "metadata": {},
   "outputs": [
    {
     "data": {
      "text/plain": [
       "array(['Jan', 'Feb', 'Mar'], dtype=object)"
      ]
     },
     "execution_count": 32,
     "metadata": {},
     "output_type": "execute_result"
    }
   ],
   "source": [
    "# Once we have our required dictionary, we can use the concat method to see the grouped data of only say jan feb and mar as follow\n",
    "\n",
    "concated_df = pd.concat([months_dict[\"Jan\"],months_dict[\"Feb\"],months_dict[\"Mar\"]])\n",
    "concated_df[\"job_posted_month\"].unique()"
   ]
  }
 ],
 "metadata": {
  "kernelspec": {
   "display_name": "pandas_prac_env",
   "language": "python",
   "name": "python3"
  },
  "language_info": {
   "codemirror_mode": {
    "name": "ipython",
    "version": 3
   },
   "file_extension": ".py",
   "mimetype": "text/x-python",
   "name": "python",
   "nbconvert_exporter": "python",
   "pygments_lexer": "ipython3",
   "version": "3.13.5"
  }
 },
 "nbformat": 4,
 "nbformat_minor": 5
}
